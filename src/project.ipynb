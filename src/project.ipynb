{
 "cells": [
  {
   "cell_type": "code",
   "execution_count": 1,
   "metadata": {},
   "outputs": [
    {
     "name": "stdout",
     "output_type": "stream",
     "text": [
      "pygame 2.6.1 (SDL 2.28.4, Python 3.7.12)\n",
      "Hello from the pygame community. https://www.pygame.org/contribute.html\n"
     ]
    }
   ],
   "source": [
    "import carla, time, pygame, cv2, math\n",
    "import numpy as np"
   ]
  },
  {
   "cell_type": "code",
   "execution_count": 2,
   "metadata": {},
   "outputs": [],
   "source": [
    "client = carla.Client('localhost', 2000)\n",
    "client.set_timeout(10.0)\n",
    "\n",
    "world = client.get_world()\n",
    "spectator = world.get_spectator()\n",
    "carla_settings = world.get_settings()"
   ]
  },
  {
   "cell_type": "code",
   "execution_count": 3,
   "metadata": {},
   "outputs": [],
   "source": [
    "def spawn_camera(attach_to=None, transform=carla.Transform(carla.Location(x=1.2, z=1.2), carla.Rotation(pitch=-10)), width=800, height=600):\n",
    "    camera_bp = world.get_blueprint_library().find('sensor.camera.semantic_segmentation')\n",
    "    camera_bp.set_attribute('image_size_x', str(width))\n",
    "    camera_bp.set_attribute('image_size_y', str(height))\n",
    "    camera = world.spawn_actor(camera_bp, transform, attach_to=attach_to)\n",
    "    return camera\n",
    "\n",
    "def spawn_vehicle(world, vehicle_index=0, spawn_index=0):\n",
    "    blueprint_library = world.get_blueprint_library()\n",
    "    vehicle_bp = blueprint_library.filter('vehicle.*')[vehicle_index]\n",
    "    spawn_point = world.get_map().get_spawn_points()[spawn_index]\n",
    "    vehicle = world.spawn_actor(vehicle_bp, spawn_point)\n",
    "    return vehicle\n",
    "\n",
    "\n",
    "def spawn_pedestrian(spawn_index=0):\n",
    "    blueprint_library = world.get_blueprint_library()\n",
    "    pedestrian_bp = blueprint_library.filter('walker.pedestrian.*')[0]\n",
    "    spawn_point = world.get_map().get_spawn_points()[spawn_index]\n",
    "    pedestrian = world.spawn_actor(pedestrian_bp, spawn_point)\n",
    "    return pedestrian\n",
    "\n",
    "def callback(image):\n",
    "    image.convert(carla.ColorConverter.CityScapesPalette)\n",
    "    time.sleep(3)\n",
    "    image.save_to_disk('output/%.6d.png' % image.frame)\n",
    "\n",
    "def move_spectator_to(transform, spectator, distance=5.0, x=0, y=0, z=4, yaw=0, pitch=-30, roll=0):\n",
    "    back_location = transform.location - transform.get_forward_vector() * distance\n",
    "    \n",
    "    back_location.x += x\n",
    "    back_location.y += y\n",
    "    back_location.z += z\n",
    "    transform.rotation.yaw += yaw\n",
    "    transform.rotation.pitch = pitch\n",
    "    transform.rotation.roll = roll\n",
    "    \n",
    "    spectator_transform = carla.Transform(back_location, transform.rotation)\n",
    "    \n",
    "    spectator.set_transform(spectator_transform)"
   ]
  },
  {
   "cell_type": "code",
   "execution_count": 9,
   "metadata": {},
   "outputs": [],
   "source": [
    "throttle = 0.6\n",
    "\n",
    "def move_forward(vehicle, duration):\n",
    "    control = carla.VehicleControl()\n",
    "    control.throttle = throttle\n",
    "    vehicle.apply_control(control)\n",
    "    start_time = time.time()\n",
    "    while time.time() - start_time < duration:\n",
    "        world.tick()\n",
    "        time.sleep(0.1)\n",
    "\n",
    "def steer_left(vehicle):\n",
    "    control = carla.VehicleControl()\n",
    "    control.throttle = throttle\n",
    "    control.steer = -0.38\n",
    "    vehicle.apply_control(control)\n",
    "    world.tick()\n",
    "    time.sleep(2)\n",
    "\n",
    "def steer_right(vehicle):\n",
    "    control = carla.VehicleControl()\n",
    "    control.throttle = throttle\n",
    "    control.steer = 0.38\n",
    "    vehicle.apply_control(control)\n",
    "    world.tick()\n",
    "    time.sleep(2)"
   ]
  },
  {
   "cell_type": "code",
   "execution_count": 17,
   "metadata": {},
   "outputs": [
    {
     "name": "stdout",
     "output_type": "stream",
     "text": [
      "Key pressed: r\n",
      "Key pressed: r\n",
      "Key pressed: escape\n"
     ]
    }
   ],
   "source": [
    "pygame.init()\n",
    "# focus on the pygame window to get the key pressed\n",
    "pygame.display.set_mode((400, 300))\n",
    "\n",
    "vehicle = spawn_vehicle(world)\n",
    "vehicle.set_autopilot(True)\n",
    "\n",
    "original_view = 0\n",
    "is_reversed = False\n",
    "\n",
    "running = True\n",
    "while running:\n",
    "    for event in pygame.event.get():\n",
    "        if event.type == pygame.KEYDOWN:\n",
    "            key = event.key\n",
    "            print(f\"Key pressed: {pygame.key.name(key)}\")\n",
    "            if key == pygame.QUIT or key == pygame.K_ESCAPE:\n",
    "                running = False\n",
    "            elif key ==pygame.K_r: # reverse\n",
    "                is_reversed = not is_reversed\n",
    "    move_spectator_to(vehicle.get_transform(), spectator, yaw = 180 if is_reversed else original_view)\n",
    "    world.tick()\n",
    "    pygame.display.flip()\n",
    "\n",
    "pygame.quit()"
   ]
  },
  {
   "cell_type": "code",
   "execution_count": 14,
   "metadata": {},
   "outputs": [
    {
     "ename": "AttributeError",
     "evalue": "'Walker' object has no attribute 'set_autopilot'",
     "output_type": "error",
     "traceback": [
      "\u001b[1;31m---------------------------------------------------------------------------\u001b[0m",
      "\u001b[1;31mAttributeError\u001b[0m                            Traceback (most recent call last)",
      "\u001b[1;32m~\\AppData\\Local\\Temp\\ipykernel_6840\\3431017478.py\u001b[0m in \u001b[0;36m<module>\u001b[1;34m\u001b[0m\n\u001b[0;32m     10\u001b[0m \u001b[1;32mfor\u001b[0m \u001b[0mi\u001b[0m \u001b[1;32min\u001b[0m \u001b[0mrange\u001b[0m\u001b[1;33m(\u001b[0m\u001b[1;36m10\u001b[0m\u001b[1;33m)\u001b[0m\u001b[1;33m:\u001b[0m\u001b[1;33m\u001b[0m\u001b[1;33m\u001b[0m\u001b[0m\n\u001b[0;32m     11\u001b[0m     \u001b[0mpedestrian\u001b[0m \u001b[1;33m=\u001b[0m \u001b[0mspawn_pedestrian\u001b[0m\u001b[1;33m(\u001b[0m\u001b[0mspawn_index\u001b[0m\u001b[1;33m=\u001b[0m\u001b[0mi\u001b[0m\u001b[1;33m)\u001b[0m\u001b[1;33m\u001b[0m\u001b[1;33m\u001b[0m\u001b[0m\n\u001b[1;32m---> 12\u001b[1;33m     \u001b[0mpedestrian\u001b[0m\u001b[1;33m.\u001b[0m\u001b[0mset_autopilot\u001b[0m\u001b[1;33m(\u001b[0m\u001b[1;32mTrue\u001b[0m\u001b[1;33m)\u001b[0m\u001b[1;33m\u001b[0m\u001b[1;33m\u001b[0m\u001b[0m\n\u001b[0m",
      "\u001b[1;31mAttributeError\u001b[0m: 'Walker' object has no attribute 'set_autopilot'"
     ]
    }
   ],
   "source": [
    "vehicle = spawn_vehicle()\n",
    "camera = spawn_camera(attach_to=vehicle)\n",
    "vehicle.set_autopilot(True)\n",
    "\n",
    "spectator_transform = vehicle.get_transform()\n",
    "move_spectator_to(spectator_transform, spectator)\n",
    "\n",
    "camera.listen(callback)\n",
    "\n",
    "for i in range(10):\n",
    "    pedestrian = spawn_pedestrian(spawn_index=i)"
   ]
  },
  {
   "cell_type": "code",
   "execution_count": 15,
   "metadata": {},
   "outputs": [
    {
     "ename": "",
     "evalue": "",
     "output_type": "error",
     "traceback": [
      "\u001b[1;31mThe Kernel crashed while executing code in the current cell or a previous cell. \n",
      "\u001b[1;31mPlease review the code in the cell(s) to identify a possible cause of the failure. \n",
      "\u001b[1;31mClick <a href='https://aka.ms/vscodeJupyterKernelCrash'>here</a> for more info. \n",
      "\u001b[1;31mView Jupyter <a href='command:jupyter.viewOutput'>log</a> for further details."
     ]
    }
   ],
   "source": [
    "if vehicle:\n",
    "    vehicle.destroy()\n",
    "if camera:\n",
    "    camera.stop()\n",
    "    camera.destroy()\n",
    "for actor in world.get_actors().filter('walker.pedestrian.*'):\n",
    "    actor.destroy()"
   ]
  },
  {
   "cell_type": "code",
   "execution_count": 4,
   "metadata": {},
   "outputs": [
    {
     "name": "stdout",
     "output_type": "stream",
     "text": [
      "Time to Collision (TTC): 5410.84 seconds\n",
      "Time to Collision (TTC): 4121.39 seconds\n",
      "Time to Collision (TTC): 6330.30 seconds\n",
      "Time to Collision (TTC): 9381.71 seconds\n",
      "Time to Collision (TTC): 769.49 seconds\n",
      "Time to Collision (TTC): 1037.75 seconds\n",
      "Time to Collision (TTC): 1880.60 seconds\n",
      "Time to Collision (TTC): 71247.18 seconds\n",
      "Time to Collision (TTC): 57236.75 seconds\n",
      "Time to Collision (TTC): 4588.39 seconds\n",
      "Time to Collision (TTC): 5683.64 seconds\n",
      "Time to Collision (TTC): 3664.96 seconds\n",
      "Time to Collision (TTC): 4326.50 seconds\n",
      "Time to Collision (TTC): 3781.98 seconds\n",
      "Time to Collision (TTC): 4804.14 seconds\n",
      "Time to Collision (TTC): 5386.65 seconds\n",
      "Time to Collision (TTC): 8573.48 seconds\n",
      "Time to Collision (TTC): 9491.06 seconds\n",
      "Time to Collision (TTC): 12766.13 seconds\n",
      "Time to Collision (TTC): 13638.38 seconds\n",
      "Time to Collision (TTC): 14832.52 seconds\n",
      "Time to Collision (TTC): 17996.44 seconds\n",
      "Time to Collision (TTC): 16674.85 seconds\n",
      "Time to Collision (TTC): 30462.39 seconds\n",
      "Time to Collision (TTC): 46959.21 seconds\n",
      "Time to Collision (TTC): 69968.05 seconds\n",
      "Time to Collision (TTC): 87390.00 seconds\n",
      "Time to Collision (TTC): 112956.60 seconds\n"
     ]
    },
    {
     "ename": "ArgumentError",
     "evalue": "Python argument types in\n    WalkerControl.__init__(WalkerControl)\ndid not match C++ signature:\n    __init__(struct _object * __ptr64, class carla::geom::Vector3D direction=<carla.libcarla.Vector3D object at 0x000002467E01A7B0>, float speed=0.0, bool jump=False)\n    __init__(struct _object * __ptr64)",
     "output_type": "error",
     "traceback": [
      "\u001b[1;31m---------------------------------------------------------------------------\u001b[0m",
      "\u001b[1;31mArgumentError\u001b[0m                             Traceback (most recent call last)",
      "\u001b[1;32m~\\AppData\\Local\\Temp\\ipykernel_11320\\1808964143.py\u001b[0m in \u001b[0;36m<module>\u001b[1;34m\u001b[0m\n\u001b[0;32m    100\u001b[0m                 \u001b[0mmoving_forward\u001b[0m \u001b[1;33m=\u001b[0m \u001b[1;32mFalse\u001b[0m\u001b[1;33m\u001b[0m\u001b[1;33m\u001b[0m\u001b[0m\n\u001b[0;32m    101\u001b[0m             \u001b[1;32melif\u001b[0m \u001b[0mkey\u001b[0m \u001b[1;33m==\u001b[0m \u001b[0mpygame\u001b[0m\u001b[1;33m.\u001b[0m\u001b[0mK_p\u001b[0m\u001b[1;33m:\u001b[0m\u001b[1;33m\u001b[0m\u001b[1;33m\u001b[0m\u001b[0m\n\u001b[1;32m--> 102\u001b[1;33m                 \u001b[0mtarget_pedestrian\u001b[0m\u001b[1;33m.\u001b[0m\u001b[0mapply_control\u001b[0m\u001b[1;33m(\u001b[0m\u001b[0mcarla\u001b[0m\u001b[1;33m.\u001b[0m\u001b[0mWalkerControl\u001b[0m\u001b[1;33m(\u001b[0m\u001b[0mdestination\u001b[0m\u001b[1;33m=\u001b[0m\u001b[0mcarla\u001b[0m\u001b[1;33m.\u001b[0m\u001b[0mVector3D\u001b[0m\u001b[1;33m(\u001b[0m\u001b[0my\u001b[0m\u001b[1;33m=\u001b[0m\u001b[1;36m10\u001b[0m\u001b[1;33m)\u001b[0m\u001b[1;33m)\u001b[0m\u001b[1;33m,\u001b[0m \u001b[0mspeed\u001b[0m \u001b[1;33m=\u001b[0m \u001b[1;36m1.0\u001b[0m\u001b[1;33m,\u001b[0m \u001b[0mjump\u001b[0m\u001b[1;33m=\u001b[0m\u001b[1;32mFalse\u001b[0m\u001b[1;33m)\u001b[0m\u001b[1;33m\u001b[0m\u001b[1;33m\u001b[0m\u001b[0m\n\u001b[0m\u001b[0;32m    103\u001b[0m \u001b[1;33m\u001b[0m\u001b[0m\n\u001b[0;32m    104\u001b[0m     \u001b[1;32mif\u001b[0m \u001b[0mmoving_forward\u001b[0m\u001b[1;33m:\u001b[0m\u001b[1;33m\u001b[0m\u001b[1;33m\u001b[0m\u001b[0m\n",
      "\u001b[1;31mArgumentError\u001b[0m: Python argument types in\n    WalkerControl.__init__(WalkerControl)\ndid not match C++ signature:\n    __init__(struct _object * __ptr64, class carla::geom::Vector3D direction=<carla.libcarla.Vector3D object at 0x000002467E01A7B0>, float speed=0.0, bool jump=False)\n    __init__(struct _object * __ptr64)"
     ]
    },
    {
     "ename": "",
     "evalue": "",
     "output_type": "error",
     "traceback": [
      "\u001b[1;31mThe Kernel crashed while executing code in the current cell or a previous cell. \n",
      "\u001b[1;31mPlease review the code in the cell(s) to identify a possible cause of the failure. \n",
      "\u001b[1;31mClick <a href='https://aka.ms/vscodeJupyterKernelCrash'>here</a> for more info. \n",
      "\u001b[1;31mView Jupyter <a href='command:jupyter.viewOutput'>log</a> for further details."
     ]
    }
   ],
   "source": [
    "pygame.init()\n",
    "screen = pygame.display.set_mode((400, 300))\n",
    "\n",
    "running = True\n",
    "moving_forward = False\n",
    "\n",
    "# target_vehicle = spawn_vehicle()\n",
    "target_pedestrian = spawn_pedestrian()\n",
    "\n",
    "time.sleep(1)\n",
    "\n",
    "target_transform = target_pedestrian.get_transform()\n",
    "target_transform.location += carla.Location(x=35, y=-1)\n",
    "target_pedestrian.set_transform(target_transform)\n",
    "\n",
    "# controller_bp = world.get_blueprint_library().find('controller.ai.walker')\n",
    "# controller = world.spawn_actor(controller_bp, target_pedestrian.get_transform(), target_pedestrian)\n",
    "\n",
    "\n",
    "time.sleep(1)\n",
    "\n",
    "ego_vehicle = spawn_vehicle(world)\n",
    "\n",
    "rad_bp = world.get_blueprint_library().find('sensor.other.radar')\n",
    "rad_bp.set_attribute('horizontal_fov', str(35))\n",
    "rad_bp.set_attribute('vertical_fov', str(20))\n",
    "rad_bp.set_attribute('range', str(20))\n",
    "rad_location = carla.Location(x=2.0, z=1.0)\n",
    "rad_rotation = carla.Rotation(pitch=5)\n",
    "rad_transform = carla.Transform(rad_location,rad_rotation)\n",
    "rad_ego = world.spawn_actor(rad_bp,rad_transform,attach_to=ego_vehicle, attachment_type=carla.AttachmentType.Rigid)\n",
    "\n",
    "def rad_callback(radar_data):\n",
    "    global moving_forward\n",
    "\n",
    "    # min_distance_to_brake = 10.0\n",
    "    # brake_strength = 0.5\n",
    "    relative_velocity = 0\n",
    "\n",
    "    velocity_range = 7.5 # m/s\n",
    "    current_rot = radar_data.transform.rotation\n",
    "    for detect in radar_data:\n",
    "        azi = math.degrees(detect.azimuth)\n",
    "        alt = math.degrees(detect.altitude)\n",
    "        velocity = detect.velocity\n",
    "        depth = detect.depth\n",
    "\n",
    "        ego_velocity = ego_vehicle.get_velocity() \n",
    "        ego_speed = math.sqrt(ego_velocity.x ** 2 + ego_velocity.y ** 2)\n",
    "        relative_velocity = ego_speed - relative_velocity\n",
    "        \n",
    "        if relative_velocity and relative_velocity != 0:\n",
    "            ttc = depth / relative_velocity\n",
    "            if ttc > 0:\n",
    "                print(f\"Time to Collision (TTC): {ttc:.2f} seconds\")\n",
    "\n",
    "                if ttc < 2.0:\n",
    "                     print(\"Warning! Braking required.\")\n",
    "                     moving_forward = False\n",
    "\n",
    "        # The 0.25 adjusts a bit the distance so the dots can\n",
    "        # be properly seen\n",
    "        fw_vec = carla.Vector3D(x=detect.depth - 0.25)\n",
    "        carla.Transform(\n",
    "            carla.Location(),\n",
    "            carla.Rotation(\n",
    "                pitch=current_rot.pitch + alt,\n",
    "                yaw=current_rot.yaw + azi,\n",
    "                roll=current_rot.roll)).transform(fw_vec)\n",
    "\n",
    "        def clamp(min_v, max_v, value):\n",
    "            return max(min_v, min(value, max_v))\n",
    "\n",
    "        norm_velocity = detect.velocity / velocity_range # range [-1, 1]\n",
    "        r = int(clamp(0.0, 1.0, 1.0 - norm_velocity) * 255.0)\n",
    "        g = int(clamp(0.0, 1.0, 1.0 - abs(norm_velocity)) * 255.0)\n",
    "        b = int(abs(clamp(- 1.0, 0.0, - 1.0 - norm_velocity)) * 255.0)\n",
    "        world.debug.draw_point(\n",
    "            radar_data.transform.location + fw_vec,\n",
    "            size=0.075,\n",
    "            life_time=0.06,\n",
    "            persistent_lines=False,\n",
    "            color=carla.Color(r, g, b))\n",
    "        \n",
    "rad_ego.listen(lambda radar_data: rad_callback(radar_data))\n",
    "\n",
    "while running:\n",
    "    for event in pygame.event.get():\n",
    "        if event.type == pygame.KEYDOWN:\n",
    "            key = event.key\n",
    "            if key == pygame.QUIT or key == pygame.K_ESCAPE:\n",
    "                running = False\n",
    "            elif key == pygame.K_w:\n",
    "                moving_forward = True\n",
    "                # controller.start()\n",
    "                # next_location = target_pedestrian.get_transform()\n",
    "                # # next_location.location += carla.Location(y=10)\n",
    "                # controller.go_to_location(carla.Location(x=next_location.location.x, y=10))\n",
    "            elif key == pygame.K_s:\n",
    "                moving_forward = False\n",
    "            elif key == pygame.K_p:\n",
    "                target_pedestrian.apply_control(carla.WalkerControl(destination=carla.Vector3D(y=10), speed = 1.0, jump=False))\n",
    "\n",
    "    if moving_forward:\n",
    "        control = carla.VehicleControl(throttle=0.8)\n",
    "    else:\n",
    "        control = carla.VehicleControl(throttle=0.0)\n",
    "\n",
    "    ego_vehicle.apply_control(control)\n",
    "    world.tick()\n",
    "    pygame.display.flip()\n",
    "\n",
    "pygame.quit()\n",
    "rad_ego.destroy()\n",
    "ego_vehicle.destroy()\n",
    "for actor in world.get_actors().filter('walker.pedestrian.*'):\n",
    "    actor.destroy()"
   ]
  },
  {
   "cell_type": "code",
   "execution_count": 30,
   "metadata": {},
   "outputs": [
    {
     "ename": "RuntimeError",
     "evalue": "trying to operate on a destroyed actor; an actor's function was called, but the actor is already destroyed.",
     "output_type": "error",
     "traceback": [
      "\u001b[1;31m---------------------------------------------------------------------------\u001b[0m",
      "\u001b[1;31mRuntimeError\u001b[0m                              Traceback (most recent call last)",
      "\u001b[1;32m~\\AppData\\Local\\Temp\\ipykernel_18972\\687882589.py\u001b[0m in \u001b[0;36m<module>\u001b[1;34m\u001b[0m\n\u001b[1;32m----> 1\u001b[1;33m \u001b[0mtarget_pedestrian\u001b[0m\u001b[1;33m.\u001b[0m\u001b[0mdestroy\u001b[0m\u001b[1;33m(\u001b[0m\u001b[1;33m)\u001b[0m\u001b[1;33m\u001b[0m\u001b[1;33m\u001b[0m\u001b[0m\n\u001b[0m",
      "\u001b[1;31mRuntimeError\u001b[0m: trying to operate on a destroyed actor; an actor's function was called, but the actor is already destroyed."
     ]
    },
    {
     "ename": "",
     "evalue": "",
     "output_type": "error",
     "traceback": [
      "\u001b[1;31mThe Kernel crashed while executing code in the current cell or a previous cell. \n",
      "\u001b[1;31mPlease review the code in the cell(s) to identify a possible cause of the failure. \n",
      "\u001b[1;31mClick <a href='https://aka.ms/vscodeJupyterKernelCrash'>here</a> for more info. \n",
      "\u001b[1;31mView Jupyter <a href='command:jupyter.viewOutput'>log</a> for further details."
     ]
    }
   ],
   "source": []
  }
 ],
 "metadata": {
  "kernelspec": {
   "display_name": "Python 3",
   "language": "python",
   "name": "python3"
  },
  "language_info": {
   "codemirror_mode": {
    "name": "ipython",
    "version": 3
   },
   "file_extension": ".py",
   "mimetype": "text/x-python",
   "name": "python",
   "nbconvert_exporter": "python",
   "pygments_lexer": "ipython3",
   "version": "3.7.12"
  }
 },
 "nbformat": 4,
 "nbformat_minor": 2
}
